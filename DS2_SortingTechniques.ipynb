{
  "cells": [
    {
      "cell_type": "markdown",
      "metadata": {
        "id": "view-in-github",
        "colab_type": "text"
      },
      "source": [
        "<a href=\"https://colab.research.google.com/github/AhmedMoneimm/SortingTechniques/blob/main/DS2_SortingTechniques.ipynb\" target=\"_parent\"><img src=\"https://colab.research.google.com/assets/colab-badge.svg\" alt=\"Open In Colab\"/></a>"
      ]
    },
    {
      "cell_type": "markdown",
      "metadata": {
        "id": "c5KWDUffHrno"
      },
      "source": [
        "# **Sorting Techniques**\n",
        "Data Structure 2- Assignment 1\n",
        "\n",
        "Made by:\n",
        "\n",
        "#**`mon3im clutchat - solom - hazem shablanga`**\n",
        "\n",
        "note: the order of names maktooba kda 3shan 3amla balance\n",
        "\n",
        "#Outline\n",
        "###Part1\n",
        "- [1- Quick Sort](#part1_1)\n",
        "- [2- Merge Sort](#part1_2)\n",
        "- [3- Heap Sort](#part1_3)\n",
        "- [4- Selection Sort](#part1_4)\n",
        "- [5- Insertion Sort](#part1_5)\n",
        "- [6- Time comparison Report](#part1_6)\n",
        "\n",
        "###Part2\n",
        "- [1- Hybrid Merge and Selection Algorithm](#part2_1)\n",
        "- [2- K<sup>th</sup> Smallest Element](#part2_2)\n",
        "\n",
        "\n",
        "\n"
      ]
    },
    {
      "cell_type": "markdown",
      "source": [
        "##0 - Import some libraries and declare some variables"
      ],
      "metadata": {
        "id": "eF4IukGyv49T"
      }
    },
    {
      "cell_type": "code",
      "execution_count": 1,
      "metadata": {
        "id": "H5-ZH1gfHrnm"
      },
      "outputs": [],
      "source": [
        "import time\n",
        "import random\n",
        "import matplotlib.pyplot as plt\n",
        "import copy\n",
        "\n",
        "\n",
        "sizes = [1000, 25000, 50000, 75000, 100000]\n",
        "\n",
        "def generate_single_random_array(size, max):\n",
        "    array = []\n",
        "    for i in range(0, size):\n",
        "        array.append(random.randint(0, max))\n",
        "    return array\n",
        "\n",
        "class ArraySizes:\n",
        "    arr = []\n",
        "    def __init__(self, sizes):\n",
        "      if not ArraySizes.arr:\n",
        "        for size in sizes:\n",
        "          ArraySizes.arr.append(generate_single_random_array(size, 1000))\n",
        "\n",
        "\n",
        "array_of_arrays=ArraySizes(sizes).arr"
      ]
    },
    {
      "cell_type": "markdown",
      "source": [
        "<a name=\"part1_1\"></a>\n",
        "## 1 - Quick Sort\n",
        "Intro yetkatab hena + shar7\n",
        "- shar7 bullet points\n",
        "- shar7 bullet points bardo"
      ],
      "metadata": {
        "id": "h-0hjvCtqPvu"
      }
    },
    {
      "cell_type": "markdown",
      "source": [
        "###1.1 Quick Sort's implementation"
      ],
      "metadata": {
        "id": "h1_RSL4arBdz"
      }
    },
    {
      "cell_type": "code",
      "source": [
        "# def QuickSort(arr):\n",
        "#   #implementation\n"
      ],
      "metadata": {
        "id": "ul3aaTjqrRhH"
      },
      "execution_count": 2,
      "outputs": []
    },
    {
      "cell_type": "code",
      "source": [
        "def QuickSort(array, start, end):\n",
        "  if len(array) == 1: #base case\n",
        "      return array\n",
        "  if start < end:\n",
        "      q = randomized_partition(array, start, end) #get randomized pivot and partition around it\n",
        "      QuickSort(array, start, q-1) #recurse on part of array smaller than pivot\n",
        "      QuickSort(array, q+1, end) #recurse on part of array greater than pivot\n",
        "\n",
        "def randomized_partition(array, start, end):            \n",
        "    i = random.randint(start, end) #choose random element and swap it with end\n",
        "    array[end], array[i] = array[i], array[end]\n",
        "    return partition(array, start, end) #call partition on modified array\n",
        "\n",
        "def partition(array, start, end):\n",
        "    i = start-1\n",
        "    x = array[end] #choose end element as pivot\n",
        "    for j in range(start, end): #loop on elements\n",
        "        if array[j] <= x:\n",
        "            i = i+1 #indicates right position of pivot so far and number of elements smaller than pivot\n",
        "            array[j], array[i] = array[i], array[j] #swap current element with element smaller than pivot\n",
        "    array[i+1], array[end] = array[end], array[i+1] #put pivot in its correct place\n",
        "    return i+1"
      ],
      "metadata": {
        "id": "7LOHv2QFFi3P"
      },
      "execution_count": 3,
      "outputs": []
    },
    {
      "cell_type": "markdown",
      "source": [
        "###1.2 Quick Sort's Running Time Performance"
      ],
      "metadata": {
        "id": "qwepwDKNs6ZJ"
      }
    },
    {
      "cell_type": "code",
      "source": [
        "QuickSort_times = []\n",
        "multiple_arrays_qs=copy.deepcopy(array_of_arrays) # to prevent the change of array_of_arrays variable values/ make the random numbers the same for all other sorting techni\n",
        "\n",
        "for arr in multiple_arrays_qs:\n",
        "    n=len(arr)\n",
        "\n",
        "    start_time = time.time()\n",
        "\n",
        "    QuickSort(arr, 0, n - 1)\n",
        "\n",
        "    end_time = time.time()\n",
        "    elapsed_time_ms = (end_time - start_time) * 1000\n",
        "    QuickSort_times.append(elapsed_time_ms)\n",
        "\n",
        "    print(f\"Running time for Quick Sort for array size of {n} is {elapsed_time_ms:.2f} ms\")"
      ],
      "metadata": {
        "colab": {
          "base_uri": "https://localhost:8080/"
        },
        "id": "0urjyRYNtEoq",
        "outputId": "155361c8-0392-48ad-f831-bb57a6586b8f"
      },
      "execution_count": 4,
      "outputs": [
        {
          "output_type": "stream",
          "name": "stdout",
          "text": [
            "Running time for Quick Sort for array size of 1000 is 2.09 ms\n",
            "Running time for Quick Sort for array size of 25000 is 115.19 ms\n",
            "Running time for Quick Sort for array size of 50000 is 348.45 ms\n",
            "Running time for Quick Sort for array size of 75000 is 766.36 ms\n",
            "Running time for Quick Sort for array size of 100000 is 1094.66 ms\n"
          ]
        }
      ]
    },
    {
      "cell_type": "markdown",
      "source": [
        "###1.3 Quick Sort Graph - Time (milliseconds) vs Array Size"
      ],
      "metadata": {
        "id": "rxyYWMpb8x3d"
      }
    },
    {
      "cell_type": "code",
      "source": [
        "plt.plot(sizes, QuickSort_times) # to add label, put this in the parameters \", label=\"QuickSort\"\"\n",
        "plt.title(\"QuickSort graph\")\n",
        "\n",
        "plt.xlabel(\"Input size (N)\")\n",
        "plt.ylabel(\"Execution Time (microsec)\")\n",
        "\n",
        "# plt.legend()---used to label lines (must pass a label in the plot function)\n",
        "plt.show()"
      ],
      "metadata": {
        "colab": {
          "base_uri": "https://localhost:8080/",
          "height": 295
        },
        "id": "b88LXLI3Efys",
        "outputId": "05ef4e3a-8506-43a8-bfb6-66d7ef569be0"
      },
      "execution_count": 5,
      "outputs": [
        {
          "output_type": "display_data",
          "data": {
            "text/plain": [
              "<Figure size 432x288 with 1 Axes>"
            ],
            "image/png": "[encoded data removed]"
          },
          "metadata": {
            "needs_background": "light"
          }
        }
      ]
    },
    {
      "cell_type": "markdown",
      "source": [
        "<a name=\"part1_2\"></a>\n",
        "## 2 - Merge Sort\n",
        "Intro yetkatab hena + shar7\n",
        "- shar7 bullet points\n",
        "- shar7 bullet points bardo"
      ],
      "metadata": {
        "id": "_t5YVACO7UTG"
      }
    },
    {
      "cell_type": "markdown",
      "source": [
        "###2.1 Merge Sort's implementation"
      ],
      "metadata": {
        "id": "-sPsjZmp7k2m"
      }
    },
    {
      "cell_type": "code",
      "source": [
        "# def MergeSort(array, start, end):\n",
        "#   print(\"implementation\")"
      ],
      "metadata": {
        "id": "FiJFlGmS9cSt"
      },
      "execution_count": 6,
      "outputs": []
    },
    {
      "cell_type": "code",
      "source": [
        "def MergeSort(array, start, end):\n",
        "    if start < end:\n",
        "        mid = start + (end - start) // 2  #same as (start + end)//2 but to prevent overflow\n",
        "        MergeSort(array, start, mid) #recurse on left part of array\n",
        "        MergeSort(array, mid + 1, end) #recurse on right part of array\n",
        "        merge(array, start, mid, end) #combining step\n",
        "\n",
        "def merge(array, start, mid, end):\n",
        "    size1 = mid - start + 1\n",
        "    size2 = end - mid\n",
        "    L = [0] * (size1) #initialize L array with zeros\n",
        "    R = [0] * (size2) #initialize R array with zeros\n",
        "\n",
        "    for i in range(0, size1): #copy left part of main array to L\n",
        "        L[i] = array[start+i]\n",
        "    for i in range(0, end-mid): #copy right part of main array to R\n",
        "        R[i] = array[mid+i+1]\n",
        "    i = 0\n",
        "    j = 0\n",
        "    k = start\n",
        "    #merge both arrays: put elements in order in main array\n",
        "    while i < size1 and j < size2:\n",
        "        if L[i] <= R[j]:\n",
        "            array[k] = L[i]\n",
        "            i = i+1\n",
        "        else:\n",
        "            array[k] = R[j]\n",
        "            j = j+1\n",
        "        k = k+1\n",
        "\n",
        "    #if one array is bigger than the other\n",
        "    while i < size1:\n",
        "        array[k] = L[i]\n",
        "        i = i+1\n",
        "        k = k+1\n",
        "\n",
        "    while j < size2:\n",
        "        array[k] = R[j]\n",
        "        j = j+1\n",
        "        k = k+1"
      ],
      "metadata": {
        "id": "OWotsX0c7oLU"
      },
      "execution_count": 18,
      "outputs": []
    },
    {
      "cell_type": "markdown",
      "source": [
        "###2.2 Merge Sort's Running Time Performance"
      ],
      "metadata": {
        "id": "yOeFURFs79s7"
      }
    },
    {
      "cell_type": "code",
      "source": [
        "MergeSort_times = []\n",
        "multiple_arrays_ms=copy.deepcopy(array_of_arrays) # to prevent the change of array_of_arrays variable values/ make the random numbers the same for all other sorting techni\n",
        "\n",
        "for arr in multiple_arrays_ms:\n",
        "    n=len(arr)\n",
        "\n",
        "    start_time = time.time()\n",
        "\n",
        "    MergeSort(arr, 0, n-1)\n",
        "\n",
        "    end_time = time.time()\n",
        "    elapsed_time_ms = (end_time - start_time) * 1000\n",
        "    MergeSort_times.append(elapsed_time_ms)\n",
        "\n",
        "    print(f\"Running time for Merge Sort for array size of {n} is {elapsed_time_ms:.2f} ms\")"
      ],
      "metadata": {
        "colab": {
          "base_uri": "https://localhost:8080/"
        },
        "id": "b9yhVRd58Aha",
        "outputId": "cd23ae78-c8d9-451e-df46-480e53caf7c1"
      },
      "execution_count": 16,
      "outputs": [
        {
          "output_type": "stream",
          "name": "stdout",
          "text": [
            "Running time for Merge Sort for array size of 1000 is 3.21 ms\n",
            "Running time for Merge Sort for array size of 25000 is 110.08 ms\n",
            "Running time for Merge Sort for array size of 50000 is 250.98 ms\n",
            "Running time for Merge Sort for array size of 75000 is 403.73 ms\n",
            "Running time for Merge Sort for array size of 100000 is 542.92 ms\n"
          ]
        }
      ]
    },
    {
      "cell_type": "markdown",
      "source": [
        "###2.3 Merge Sort Graph - Time (milliseconds) vs Array Size"
      ],
      "metadata": {
        "id": "Xic3l2bb9B3y"
      }
    },
    {
      "cell_type": "code",
      "source": [
        "plt.plot(sizes, MergeSort_times) # to add label, put this in the parameters \", label=\"MergeSort\"\"\n",
        "plt.title(\"MergeSort graph\")\n",
        "\n",
        "plt.xlabel(\"Input size (N)\")\n",
        "plt.ylabel(\"Execution Time (microsec)\")\n",
        "\n",
        "# plt.legend()---used to label lines (must pass a label in the plot function)\n",
        "plt.show()"
      ],
      "metadata": {
        "colab": {
          "base_uri": "https://localhost:8080/",
          "height": 295
        },
        "outputId": "74431002-8db6-4736-ec00-30fcf260adbc",
        "id": "oooBOMuY9B35"
      },
      "execution_count": 17,
      "outputs": [
        {
          "output_type": "display_data",
          "data": {
            "text/plain": [
              "<Figure size 432x288 with 1 Axes>"
            ],
            "image/png": "[encoded data removed]"
          },
          "metadata": {
            "needs_background": "light"
          }
        }
      ]
    },
    {
      "cell_type": "markdown",
      "source": [
        "<a name=\"part1_3\"></a>\n",
        "## 3 - Heap Sort\n",
        "Intro yetkatab hena + shar7\n",
        "- shar7 bullet points\n",
        "- shar7 bullet points bardo"
      ],
      "metadata": {
        "id": "SLu66karAVYR"
      }
    },
    {
      "cell_type": "markdown",
      "source": [
        "###3.1 Heap Sort's implementation"
      ],
      "metadata": {
        "id": "lKHf_aarAVYY"
      }
    },
    {
      "cell_type": "code",
      "source": [
        "#mn3m\n",
        "\n",
        "def heapify(arr, N, i):\n",
        "    largest = i  # Initialize largest as root\n",
        "    l = 2 * i + 1     # left = 2*i + 1\n",
        "    r = 2 * i + 2     # right = 2*i + 2\n",
        " \n",
        "    # See if left child of root exists and is\n",
        "    # greater than root\n",
        "    if l < N and arr[largest] < arr[l]:\n",
        "        largest = l\n",
        " \n",
        "    # See if right child of root exists and is\n",
        "    # greater than root\n",
        "    if r < N and arr[largest] < arr[r]:\n",
        "        largest = r\n",
        " \n",
        "    # Change root, if needed\n",
        "    if largest != i:\n",
        "        arr[i], arr[largest] = arr[largest], arr[i]  # swap\n",
        " \n",
        "        # Heapify the root.\n",
        "        heapify(arr, N, largest)\n",
        " \n",
        "# The main function to sort an array of given size\n",
        " \n",
        " \n",
        "def HeapSort(arr):\n",
        "    N = len(arr)\n",
        " \n",
        "    # Build a maxheap.\n",
        "    for i in range(N//2 - 1, -1, -1):\n",
        "        heapify(arr, N, i)\n",
        " \n",
        "    # One by one extract elements\n",
        "    for i in range(N-1, 0, -1):\n",
        "        arr[i], arr[0] = arr[0], arr[i]  # swap\n",
        "        heapify(arr, i, 0)"
      ],
      "metadata": {
        "id": "eTAGj_VsOYX3"
      },
      "execution_count": 10,
      "outputs": []
    },
    {
      "cell_type": "markdown",
      "source": [
        "###3.2 Heap Sort's Running Time Performance"
      ],
      "metadata": {
        "id": "CeMaQAmCAVYZ"
      }
    },
    {
      "cell_type": "code",
      "source": [
        "HeapSort_times = []\n",
        "multiple_arrays_hs=copy.deepcopy(array_of_arrays) # to prevent the change of array_of_arrays variable values/ make the random numbers the same for all other sorting techni\n",
        "\n",
        "for arr in multiple_arrays_hs:\n",
        "    n=len(arr)\n",
        "\n",
        "    start_time = time.time()\n",
        "\n",
        "    HeapSort(arr)\n",
        "\n",
        "    end_time = time.time()\n",
        "    elapsed_time_ms = (end_time - start_time) * 1000\n",
        "    HeapSort_times.append(elapsed_time_ms)\n",
        "\n",
        "    print(f\"Running time for Merge Sort for array size of {n} is {elapsed_time_ms:.2f} ms\")"
      ],
      "metadata": {
        "id": "C11cQFWbAVYZ",
        "colab": {
          "base_uri": "https://localhost:8080/"
        },
        "outputId": "29c3a881-42c5-47a5-b590-a07ac3ddf664"
      },
      "execution_count": 13,
      "outputs": [
        {
          "output_type": "stream",
          "name": "stdout",
          "text": [
            "Running time for Merge Sort for array size of 1000 is 3.71 ms\n",
            "Running time for Merge Sort for array size of 25000 is 140.61 ms\n",
            "Running time for Merge Sort for array size of 50000 is 328.18 ms\n",
            "Running time for Merge Sort for array size of 75000 is 571.77 ms\n",
            "Running time for Merge Sort for array size of 100000 is 756.46 ms\n"
          ]
        }
      ]
    },
    {
      "cell_type": "markdown",
      "source": [
        "###3.3 Heap Sort Graph - Time (milliseconds) vs Array Size"
      ],
      "metadata": {
        "id": "rlT4rYpcAVYZ"
      }
    },
    {
      "cell_type": "code",
      "source": [
        "plt.plot(sizes, HeapSort_times) # to add label, put this in the parameters \", label=\"HeapSort\"\"\n",
        "plt.title(\"HeapSort graph\")\n",
        "\n",
        "plt.xlabel(\"Input size (N)\")\n",
        "plt.ylabel(\"Execution Time (microsec)\")\n",
        "\n",
        "# plt.legend()---used to label lines (must pass a label in the plot function)\n",
        "plt.show()"
      ],
      "metadata": {
        "id": "qpmmTzDHAVYZ",
        "colab": {
          "base_uri": "https://localhost:8080/",
          "height": 295
        },
        "outputId": "ee887720-0e75-440e-8d87-13a65f2a0f07"
      },
      "execution_count": 14,
      "outputs": [
        {
          "output_type": "display_data",
          "data": {
            "text/plain": [
              "<Figure size 432x288 with 1 Axes>"
            ],
            "image/png": "[encoded data removed]"
          },
          "metadata": {
            "needs_background": "light"
          }
        }
      ]
    }
  ],
  "metadata": {
    "kernelspec": {
      "display_name": "Python 3",
      "language": "python",
      "name": "python3"
    },
    "language_info": {
      "name": "python",
      "version": "3.10.7"
    },
    "orig_nbformat": 4,
    "colab": {
      "provenance": [],
      "include_colab_link": true
    }
  },
  "nbformat": 4,
  "nbformat_minor": 0
}