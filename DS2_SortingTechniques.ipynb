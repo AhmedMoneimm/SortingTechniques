{
  "cells": [
    {
      "cell_type": "markdown",
      "metadata": {
        "id": "view-in-github",
        "colab_type": "text"
      },
      "source": [
        "<a href=\"https://colab.research.google.com/github/AhmedMoneimm/SortingTechniques/blob/main/DS2_SortingTechniques.ipynb\" target=\"_parent\"><img src=\"https://colab.research.google.com/assets/colab-badge.svg\" alt=\"Open In Colab\"/></a>"
      ]
    },
    {
      "cell_type": "markdown",
      "metadata": {
        "id": "c5KWDUffHrno"
      },
      "source": [
        "# **Sorting Techniques**\n",
        "Data Structure 2- Assignment 1\n",
        "\n",
        "Made by:\n",
        "\n",
        "##**mon3im clutchat - solom - hazem shablanga**\n",
        "\n",
        "note: the order of names maktooba kda 3shan 3amla balance\n",
        "\n",
        "#Outline\n",
        "###Part1\n",
        "- [1- Quick Sort](#part1_1)\n",
        "- [2- Merge Sort](#part1_2)\n",
        "- [3- Heap Sort](#part1_3)\n",
        "- [4- Selection Sort](#part1_4)\n",
        "- [5- Insertion Sort](#part1_5)\n",
        "- [6- Time comparison Report](#part1_6)\n",
        "\n",
        "###Part2\n",
        "- [1- Hybrid Merge and Selection Algorithm](#part2_1)\n",
        "- [2- K<sup>th</sup> Smallest Element](#part2_2)\n",
        "\n",
        "\n",
        "\n"
      ]
    },
    {
      "cell_type": "markdown",
      "source": [
        "#0 - Import some libraries and declare some variables"
      ],
      "metadata": {
        "id": "eF4IukGyv49T"
      }
    },
    {
      "cell_type": "code",
      "execution_count": null,
      "metadata": {
        "id": "H5-ZH1gfHrnm"
      },
      "outputs": [],
      "source": [
        "import time\n",
        "import random\n",
        "import matplotlib.pyplot as plt\n",
        "import copy\n",
        "\n",
        "\n",
        "sizes = [1000, 25000, 50000, 75000, 100000]\n",
        "\n",
        "def generate_single_random_array(size, max):\n",
        "    array = []\n",
        "    for i in range(0, size):\n",
        "        array.append(random.randint(0, max))\n",
        "    return array\n",
        "\n",
        "class ArraySizes:\n",
        "    arr = []\n",
        "    def __init__(self, sizes):\n",
        "      if not ArraySizes.arr:\n",
        "        for size in sizes:\n",
        "          ArraySizes.arr.append(generate_single_random_array(size, 1000))\n",
        "\n",
        "\n",
        "array_of_arrays=ArraySizes(sizes).arr"
      ]
    },
    {
      "cell_type": "markdown",
      "source": [
        "<a name=\"part1_1\"></a>\n",
        "## 1- Quick Sort\n",
        "Intro yetkatab hena + shar7\n",
        "- shar7 bullet points\n",
        "- shar7 bullet points bardo"
      ],
      "metadata": {
        "id": "h-0hjvCtqPvu"
      }
    },
    {
      "cell_type": "markdown",
      "source": [
        "###1.1 Quick Sort's implementation"
      ],
      "metadata": {
        "id": "h1_RSL4arBdz"
      }
    },
    {
      "cell_type": "code",
      "source": [
        "# def QuickSort(arr):\n",
        "#   #implementation\n"
      ],
      "metadata": {
        "id": "ul3aaTjqrRhH"
      },
      "execution_count": null,
      "outputs": []
    },
    {
      "cell_type": "code",
      "source": [
        "def QuickSort(array, start, end):\n",
        "  if len(array) == 1: #base case\n",
        "      return array\n",
        "  if start < end:\n",
        "      q = randomized_partition(array, start, end) #get randomized pivot and partition around it\n",
        "      QuickSort(array, start, q-1) #recurse on part of array smaller than pivot\n",
        "      QuickSort(array, q+1, end) #recurse on part of array greater than pivot\n",
        "\n",
        "def randomized_partition(array, start, end):\n",
        "    i = random.randint(start, end) #choose random element and swap it with end\n",
        "    array[end], array[i] = array[i], array[end]\n",
        "    return partition(array, start, end) #call partition on modified array\n",
        "\n",
        "def partition(array, start, end):\n",
        "    i = start-1\n",
        "    x = array[end] #choose end element as pivot\n",
        "    for j in range(start, end): #loop on elements\n",
        "        if array[j] <= x:\n",
        "            i = i+1 #indicates right position of pivot so far and number of elements smaller than pivot\n",
        "            array[j], array[i] = array[i], array[j] #swap current element with element smaller than pivot\n",
        "    array[i+1], array[end] = array[end], array[i+1] #put pivot in its correct place\n",
        "    return i+1"
      ],
      "metadata": {
        "id": "7LOHv2QFFi3P"
      },
      "execution_count": null,
      "outputs": []
    },
    {
      "cell_type": "markdown",
      "source": [
        "###1.2 Quick Sort's Running Time Performance"
      ],
      "metadata": {
        "id": "qwepwDKNs6ZJ"
      }
    },
    {
      "cell_type": "code",
      "source": [
        "QuickSort_times = []\n",
        "multiple_arrays_qs=copy.deepcopy(array_of_arrays) # to prevent the change of array_of_arrays variable values/ make the random numbers the same for all other sorting techni\n",
        "\n",
        "for arr in multiple_arrays_qs:\n",
        "    n=len(arr)\n",
        "\n",
        "    start_time = time.time()\n",
        "\n",
        "    QuickSort(arr, 0, n - 1)\n",
        "\n",
        "    end_time = time.time()\n",
        "    elapsed_time_ms = (end_time - start_time) * 1000\n",
        "    QuickSort_times.append(elapsed_time_ms)\n",
        "\n",
        "    print(f\"Running time for Quick Sort for array size of {n} is {elapsed_time_ms:.2f} ms\")"
      ],
      "metadata": {
        "colab": {
          "base_uri": "https://localhost:8080/"
        },
        "id": "0urjyRYNtEoq",
        "outputId": "b4a46e90-0ddc-4656-cb87-413588b5e85c"
      },
      "execution_count": null,
      "outputs": [
        {
          "output_type": "stream",
          "name": "stdout",
          "text": [
            "Running time for Quick Sort for array size of 1000 is 2.94 ms\n",
            "Running time for Quick Sort for array size of 25000 is 153.32 ms\n",
            "Running time for Quick Sort for array size of 50000 is 439.38 ms\n",
            "Running time for Quick Sort for array size of 75000 is 850.30 ms\n",
            "Running time for Quick Sort for array size of 100000 is 1436.30 ms\n"
          ]
        }
      ]
    },
    {
      "cell_type": "markdown",
      "source": [
        "###1.3 Quick Sort Graph - Time (milliseconds) vs Array Size"
      ],
      "metadata": {
        "id": "MSPH363bEDbK"
      }
    },
    {
      "cell_type": "code",
      "source": [
        "plt.plot(sizes, QuickSort_times) # to add label, put this in the parameters \", label=\"QuickSort\"\"\n",
        "plt.title(\"QuickSort graph\")\n",
        "\n",
        "plt.xlabel(\"Input size (N)\")\n",
        "plt.ylabel(\"Execution Time (microsec)\")\n",
        "\n",
        "# plt.legend()---used to label lines (must pass a label in the plot function)\n",
        "plt.show()"
      ],
      "metadata": {
        "colab": {
          "base_uri": "https://localhost:8080/",
          "height": 295
        },
        "id": "b88LXLI3Efys",
        "outputId": "25f13488-04fd-42cc-8051-637e3de5211b"
      },
      "execution_count": null,
      "outputs": [
        {
          "output_type": "display_data",
          "data": {
            "text/plain": [
              "<Figure size 432x288 with 1 Axes>"
            ],
            "image/png": "[encoded data removed]"
          },
          "metadata": {
            "needs_background": "light"
          }
        }
      ]
    }
  ],
  "metadata": {
    "kernelspec": {
      "display_name": "Python 3",
      "language": "python",
      "name": "python3"
    },
    "language_info": {
      "name": "python",
      "version": "3.10.7"
    },
    "orig_nbformat": 4,
    "colab": {
      "provenance": [],
      "include_colab_link": true
    }
  },
  "nbformat": 4,
  "nbformat_minor": 0
}