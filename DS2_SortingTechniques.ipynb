{
  "cells": [
    {
      "cell_type": "markdown",
      "metadata": {
        "id": "view-in-github",
        "colab_type": "text"
      },
      "source": [
        "<a href=\"https://colab.research.google.com/github/AhmedMoneimm/SortingTechniques/blob/main/DS2_SortingTechniques.ipynb\" target=\"_parent\"><img src=\"https://colab.research.google.com/assets/colab-badge.svg\" alt=\"Open In Colab\"/></a>"
      ]
    },
    {
      "cell_type": "markdown",
      "metadata": {
        "id": "c5KWDUffHrno"
      },
      "source": [
        "# **Sorting Techniques**\n",
        "Data Structure 2- Assignment 1\n",
        "\n",
        "Made by:\n",
        "\n",
        "#**`mon3im clutchat - solom - hazem shablanga`**\n",
        "\n",
        "note: the order of names maktooba kda 3shan 3amla balance\n",
        "\n",
        "#**Outline**\n",
        "\n",
        "###Introduction\n",
        "- [0 - Import Libraries](#part1_0)\n",
        "\n",
        "###Part1\n",
        "- [1 - Quick Sort](#part1_1)\n",
        "- [2 - Merge Sort](#part1_2)\n",
        "- [3 - Heap Sort](#part1_3)\n",
        "- [4 - Selection Sort](#part1_4)\n",
        "- [5 - Insertion Sort](#part1_5)\n",
        "- [6 - Time comparison Report](#part1_6)\n",
        "\n",
        "###Part2\n",
        "- [1 - Hybrid Merge and Selection Algorithm](#part2_1)\n",
        "- [2 - K<sup>th</sup> Smallest Element](#part2_2)\n",
        "\n",
        "\n",
        "\n"
      ]
    },
    {
      "cell_type": "markdown",
      "source": [
        "<a name=\"part1_0\"></a>\n",
        "# **Introduction**"
      ],
      "metadata": {
        "id": "vTgDcf8Y2tqp"
      }
    },
    {
      "cell_type": "markdown",
      "source": [
        "## Sorting is one of the most fundamental algorithmic problems within computer science. It has been claimed that as many as 25% of all CPU cycles are spent sorting, which provides a lot of incentive for further study and optimization of sorting. In addition, there are many other tasks (searching, calculating the median, finding the mode, removing duplicates, etc.) that can be implemented much more efficiently once the data is sorted. The wide variety of algorithms gives us a lot of richness to explore, especially when considering the tradeoffs offered in terms of efficiency, operation mix, code complexity, best/worst case inputs, and so on."
      ],
      "metadata": {
        "id": "BaG4bKRB4Etj"
      }
    },
    {
      "cell_type": "markdown",
      "metadata": {
        "id": "eF4IukGyv49T"
      },
      "source": [
        "##0 - Import some libraries and declare some variables"
      ]
    },
    {
      "cell_type": "code",
      "execution_count": 1,
      "metadata": {
        "id": "H5-ZH1gfHrnm"
      },
      "outputs": [],
      "source": [
        "import time\n",
        "import random\n",
        "import matplotlib.pyplot as plt\n",
        "import copy\n",
        "\n",
        "\n",
        "sizes = [1000, 25000, 50000, 75000, 100000]\n",
        "\n",
        "def generate_single_random_array(size, max):\n",
        "    array = []\n",
        "    for i in range(0, size):\n",
        "        array.append(random.randint(0, max))\n",
        "    return array\n",
        "\n",
        "array_of_arrays = []\n",
        "\n",
        "for size in sizes:\n",
        "  array_of_arrays.append(generate_single_random_array(size, 1000))\n",
        "\n",
        "\n",
        "# arr = [1,3,5,2,4,6]\n",
        "# QuickSort(arr, 0, len(arr) - 1)\n",
        "# print(arr)"
      ]
    },
    {
      "cell_type": "markdown",
      "source": [
        "# **Part 1**"
      ],
      "metadata": {
        "id": "1gqpHQzAy0wi"
      }
    },
    {
      "cell_type": "markdown",
      "source": [
        "<a name=\"part1_1\"></a>\n",
        "## 1 - Quick Sort"
      ],
      "metadata": {
        "id": "1NmkJsHV5gC7"
      }
    },
    {
      "cell_type": "markdown",
      "metadata": {
        "id": "h-0hjvCtqPvu"
      },
      "source": [
        "QuickSort is a divide and conquer algorithm, it picks an element as a pivot (in this case, the element is chosen randomly using the randint() function.), and then partitions the given array around the picked pivot. The process is as follows:\n",
        "\n",
        "1.   The array is partitioned into two sub-arrays around pivot x such that all left elements are smaller than x and all right elements are greater than x.\n",
        "\n",
        "2.   Recursively sorts the two sub-arrays.\n",
        "\n",
        "3.   Combine both sub-arrays.\n",
        "\n",
        "**Partitioning algorithm:** We start from the leftmost index and keep track of the number of smaller/equal elements than the pivot (last element of the array) in the variable i, if we find a smaller/equal element, it is swapped with array of index i, otherwise, we ignore the current element and i isn’t incremented. At the end, the pivot is swapped with the element of index i+1, as it’s its correct position in the array, and recursively each of the two formed sub-arrays is traversed and changed.\n",
        "\n",
        "**The worst-case time complexity of quicksort is `O(n^2)`**, which occurs when the pivot element is the smallest or largest element in the array, and the partition process results in unbalanced subarrays. However, **on average, quicksort has a time complexity of `O(n logn)`**, which makes it one of the fastest general-purpose sorting algorithms."
      ]
    },
    {
      "cell_type": "markdown",
      "metadata": {
        "id": "h1_RSL4arBdz"
      },
      "source": [
        "###1.1 Quick Sort's implementation"
      ]
    },
    {
      "cell_type": "code",
      "execution_count": 2,
      "metadata": {
        "id": "ul3aaTjqrRhH"
      },
      "outputs": [],
      "source": [
        "def QuickSort(arr,left,right):\n",
        "  if left<right: # it means there are at least two elements\n",
        "    partition_pos=randomized_partition(arr, left, right) #get randomized pivot and partition around it\n",
        "    QuickSort(arr, left, partition_pos - 1) #recurse on part of array smaller than pivot\n",
        "    QuickSort(arr, partition_pos + 1, right) #recurse on part of array greater than pivot\n",
        "\n",
        "\n",
        "def randomized_partition(arr, start, end):            \n",
        "    random_index = random.randint(start, end) #choose random element and swap it with end\n",
        "    arr[end], arr[random_index] = arr[random_index], arr[end]\n",
        "    return partition(arr, start, end) #call partition on modified array\n",
        "\n",
        "\n",
        "def partition(arr,start,end):\n",
        "  pivot = arr[start]\n",
        "  i = start \n",
        "  j = end \n",
        "\n",
        "  while i < j:\n",
        "      #increament \"i\" until element of \"i\" is greater than the pivot\n",
        "      while i < end and arr[i] <= pivot:\n",
        "        i += 1                \n",
        "\n",
        "      #decreament \"j\" until element of \"j\" is smaller than the pivot\n",
        "      while arr[j] > pivot:\n",
        "        j -= 1                \n",
        "\n",
        "      #check if \"i\" and \"j\" got crossed or not\n",
        "      if i < j:  \n",
        "        arr[i] , arr[j] = arr[j] , arr[i]  #swap element of \"i\" with element of \"j\"\n",
        "      \"\"\"the while loop ends when there's no swaps\"\"\"\n",
        "\n",
        "  #after the loop finishes\n",
        "  #swap element of \"j\" with the pivot\n",
        "  arr[j] , arr[start] = arr[start] , arr[j]\n",
        "\n",
        "  return j # return the location of the partition number"
      ]
    },
    {
      "cell_type": "markdown",
      "metadata": {
        "id": "qwepwDKNs6ZJ"
      },
      "source": [
        "###1.2 Quick Sort's Running Time Performance"
      ]
    },
    {
      "cell_type": "code",
      "execution_count": 3,
      "metadata": {
        "colab": {
          "base_uri": "https://localhost:8080/"
        },
        "id": "0urjyRYNtEoq",
        "outputId": "fe36e4cf-d463-4fdb-c553-85de677d06c4"
      },
      "outputs": [
        {
          "output_type": "stream",
          "name": "stdout",
          "text": [
            "Running time for Quick Sort for array size of 1000 is 2.49 ms\n",
            "Running time for Quick Sort for array size of 25000 is 100.51 ms\n",
            "Running time for Quick Sort for array size of 50000 is 283.35 ms\n",
            "Running time for Quick Sort for array size of 75000 is 473.57 ms\n",
            "Running time for Quick Sort for array size of 100000 is 897.55 ms\n"
          ]
        }
      ],
      "source": [
        "QuickSort_times = []\n",
        "multiple_arrays_qs=copy.deepcopy(array_of_arrays) # to prevent the change of array_of_arrays variable values/ make the random numbers the same for all other sorting techni\n",
        "\n",
        "for arr in multiple_arrays_qs:\n",
        "    n=len(arr)\n",
        "\n",
        "    start_time = time.time()\n",
        "\n",
        "    QuickSort(arr, 0, n - 1)\n",
        "\n",
        "    end_time = time.time()\n",
        "    elapsed_time_ms = (end_time - start_time) * 1000\n",
        "    QuickSort_times.append(elapsed_time_ms)\n",
        "\n",
        "    print(f\"Running time for Quick Sort for array size of {n} is {elapsed_time_ms:.2f} ms\")"
      ]
    },
    {
      "cell_type": "markdown",
      "metadata": {
        "id": "rxyYWMpb8x3d"
      },
      "source": [
        "###1.3 Quick Sort Graph - Time (milliseconds) vs Array Size"
      ]
    },
    {
      "cell_type": "code",
      "execution_count": 4,
      "metadata": {
        "colab": {
          "base_uri": "https://localhost:8080/",
          "height": 295
        },
        "id": "b88LXLI3Efys",
        "outputId": "07481c9f-3644-4afe-9589-61c0f99db773"
      },
      "outputs": [
        {
          "output_type": "display_data",
          "data": {
            "text/plain": [
              "<Figure size 432x288 with 1 Axes>"
            ],
            "image/png": "[encoded data removed]"
          },
          "metadata": {
            "needs_background": "light"
          }
        }
      ],
      "source": [
        "plt.plot(sizes, QuickSort_times,label=\"QuickSort\")\n",
        "plt.title(\"QuickSort graph\")\n",
        "\n",
        "plt.xlabel(\"Input size (N)\")\n",
        "plt.ylabel(\"Execution Time (microsec)\")\n",
        "\n",
        "plt.show()"
      ]
    },
    {
      "cell_type": "markdown",
      "source": [
        "<a name=\"part1_2\"></a>\n",
        "## 2 - Merge Sort"
      ],
      "metadata": {
        "id": "J1VEFBEz5ysU"
      }
    },
    {
      "cell_type": "markdown",
      "metadata": {
        "id": "_t5YVACO7UTG"
      },
      "source": [
        "Merge Sort is a divide and conquer sorting algorithm, it divides the input array into two halves and calls itself recursively to sort each of those halves and then combines them together along with sorting. The process is as follows:\n",
        "\n",
        "1. The middle index is found and the array is subdivided into two sub arrays.\n",
        "2. Each of the two halves is broken down into single elements via recursively calling the `MergeSort()` function.\n",
        "3. The conquer part is using the `Merge()` function that sorts every sub-array and merges it with the next one until the final array is completely sorted.\n",
        "\n",
        "**Merging algorithm:** The merge sort is all about the merging algorithm, it breaks the array into two sub-arrays stored temporarily in L[ ] and R[ ] recursively until every element is compared to the one next to it, they’re stored correctly and recursively combines the individual arrays until the last one is completely sorted.\n",
        "\n",
        "**The time complexity of Merge Sort is `O(n log n)`**, where **n** is the number of elements in the input array. This makes Merge Sort one of the most efficient sorting algorithms, especially for large inputs. **The space complexity of Merge Sort is `O(n)`**, as it requires an auxiliary array of the same size as the input array to store the temporary subarrays during the sorting process."
      ]
    },
    {
      "cell_type": "markdown",
      "metadata": {
        "id": "-sPsjZmp7k2m"
      },
      "source": [
        "###2.1 Merge Sort's implementation"
      ]
    },
    {
      "cell_type": "code",
      "execution_count": 21,
      "metadata": {
        "id": "OWotsX0c7oLU"
      },
      "outputs": [],
      "source": [
        "def MergeSort(array, start_index, end_index):\n",
        "    # base case: if the array has length 1 or less, it is already sorted\n",
        "    if start_index >= end_index:\n",
        "        return\n",
        "    \n",
        "    # find the midpoint of the array\n",
        "    mid_index = start_index + (end_index - start_index) // 2\n",
        "    \n",
        "    # recursively sort the left and right halves of the array\n",
        "    MergeSort(array, start_index, mid_index)\n",
        "    MergeSort(array, mid_index + 1, end_index)\n",
        "    \n",
        "    # merge the sorted halves of the array\n",
        "    Merge(array, start_index, mid_index, end_index)\n",
        "\n",
        "def Merge(array, start_index, mid_index, end_index):\n",
        "    # calculate the lengths of the left and right subarrays\n",
        "    left_length = mid_index - start_index + 1\n",
        "    right_length = end_index - mid_index\n",
        "    \n",
        "    # create temporary arrays to hold the left and right subarrays\n",
        "    left_array = [array[start_index + i] for i in range(left_length)]\n",
        "    right_array = [array[mid_index + j + 1] for j in range(right_length)]\n",
        "    \n",
        "    # initialize pointers for iterating through the temporary arrays and the final merged array\n",
        "    left_index = right_index = 0\n",
        "    array_index = start_index\n",
        "    \n",
        "    # merge the two temporary arrays into a single sorted array\n",
        "    while left_index < left_length and right_index < right_length:\n",
        "        if left_array[left_index] <= right_array[right_index]:\n",
        "            array[array_index] = left_array[left_index]\n",
        "            left_index += 1\n",
        "        else:\n",
        "            array[array_index] = right_array[right_index]\n",
        "            right_index += 1\n",
        "        array_index += 1\n",
        "    \n",
        "    # append any remaining elements from the left or right temporary array\n",
        "    while left_index < left_length:\n",
        "        array[array_index] = left_array[left_index]\n",
        "        left_index += 1\n",
        "        array_index += 1\n",
        "    while right_index < right_length:\n",
        "        array[array_index] = right_array[right_index]\n",
        "        right_index += 1\n",
        "        array_index += 1\n"
      ]
    },
    {
      "cell_type": "markdown",
      "metadata": {
        "id": "yOeFURFs79s7"
      },
      "source": [
        "###2.2 Merge Sort's Running Time Performance"
      ]
    },
    {
      "cell_type": "code",
      "execution_count": 7,
      "metadata": {
        "colab": {
          "base_uri": "https://localhost:8080/"
        },
        "id": "b9yhVRd58Aha",
        "outputId": "b0e653c3-4f3e-48a8-bb83-e99dfe30c0ac"
      },
      "outputs": [
        {
          "output_type": "stream",
          "name": "stdout",
          "text": [
            "Running time for Merge Sort for array size of 1000 is 3.73 ms\n",
            "Running time for Merge Sort for array size of 25000 is 133.25 ms\n",
            "Running time for Merge Sort for array size of 50000 is 283.15 ms\n",
            "Running time for Merge Sort for array size of 75000 is 477.73 ms\n",
            "Running time for Merge Sort for array size of 100000 is 619.11 ms\n"
          ]
        }
      ],
      "source": [
        "MergeSort_times = []\n",
        "multiple_arrays_ms=copy.deepcopy(array_of_arrays) # to prevent the change of array_of_arrays variable values/ make the random numbers the same for all other sorting techni\n",
        "\n",
        "for arr in multiple_arrays_ms:\n",
        "    n=len(arr)\n",
        "\n",
        "    start_time = time.time()\n",
        "\n",
        "    MergeSort(arr, 0, n-1)\n",
        "\n",
        "    end_time = time.time()\n",
        "    elapsed_time_ms = (end_time - start_time) * 1000\n",
        "    MergeSort_times.append(elapsed_time_ms)\n",
        "\n",
        "    print(f\"Running time for Merge Sort for array size of {n} is {elapsed_time_ms:.2f} ms\")"
      ]
    },
    {
      "cell_type": "markdown",
      "metadata": {
        "id": "Xic3l2bb9B3y"
      },
      "source": [
        "###2.3 Merge Sort Graph - Time (milliseconds) vs Array Size"
      ]
    },
    {
      "cell_type": "code",
      "execution_count": 8,
      "metadata": {
        "colab": {
          "base_uri": "https://localhost:8080/",
          "height": 295
        },
        "id": "oooBOMuY9B35",
        "outputId": "dfec10ef-606b-4991-c210-dfe717112d95"
      },
      "outputs": [
        {
          "output_type": "display_data",
          "data": {
            "text/plain": [
              "<Figure size 432x288 with 1 Axes>"
            ],
            "image/png": "[encoded data removed]"
          },
          "metadata": {
            "needs_background": "light"
          }
        }
      ],
      "source": [
        "plt.plot(sizes, MergeSort_times, label=\"MergeSort\")\n",
        "plt.title(\"MergeSort graph\")\n",
        "\n",
        "plt.xlabel(\"Input size (N)\")\n",
        "plt.ylabel(\"Execution Time (microsec)\")\n",
        "\n",
        "plt.show()"
      ]
    },
    {
      "cell_type": "markdown",
      "source": [
        "<a name=\"part1_3\"></a>\n",
        "## 3 - Heap Sort"
      ],
      "metadata": {
        "id": "0mFfO8cw69OA"
      }
    },
    {
      "cell_type": "markdown",
      "metadata": {
        "id": "SLu66karAVYR"
      },
      "source": [
        "Heap Sort is another efficient sorting algorithm that uses a binary heap data structure to sort an array of elements. The process is as follows:\n",
        "1. The algorithm first builds a max heap from the array, which is a binary tree where the value of each parent node is greater than or equal to its children.\n",
        "2. Once the max heap is built, the largest element (the root node) is removed and swapped with the last element of the array.\n",
        "3. The max heap is then restored by calling the max_heapify() function on the root node to ensure it is still the largest element in the heap.\n",
        "\n",
        "This process is repeated until the entire array is sorted. `The build_max_heap()` function is used to build the max heap initially, while the `max_heapify()` function is used to maintain the heap property after each element is removed.\n",
        "\n",
        "**Max Heapify algorithm:** The `max_heapify()` function takes a binary tree and ensures that the parent node is the largest node in the tree by recursively checking and swapping the parent node with its largest child node. It assumes that the left and right subtrees of the parent node are already max heaps.\n",
        "\n",
        "**Build Max Heap algorithm:** The `build_max_heap()` function creates a max heap from an unsorted array by starting at the middle index and calling `max_heapify()` on each parent node from the middle to the beginning of the array.\n",
        "\n",
        "**The time complexity of heap sort is `O(n log n)`** in the worst case, where **'n'** is the number of elements to be sorted. This is because **building a heap takes `O(n)` time**, and **extracting the maximum element and restoring the heap property takes `O(log n)` time**. \n",
        "\n",
        "Since we need to perform these operations for all 'n' elements, **the total time complexity becomes `O(n log n)`**.\n",
        "\n",
        "**The space complexity of heap sort is `O(1)`**, as it sorts the input array in place without requiring any extra memory."
      ]
    },
    {
      "cell_type": "markdown",
      "metadata": {
        "id": "lKHf_aarAVYY"
      },
      "source": [
        "###3.1 Heap Sort's implementation"
      ]
    },
    {
      "cell_type": "code",
      "execution_count": 22,
      "metadata": {
        "id": "eTAGj_VsOYX3"
      },
      "outputs": [],
      "source": [
        "def HeapSort(arr):\n",
        "    n = len(arr)\n",
        "    build_max_heap(arr, n)\n",
        "    for i in range(n-1, 0, -1):\n",
        "        arr[0], arr[i] = arr[i], arr[0]\n",
        "        max_heapify(arr, i, 0)\n",
        "    return arr\n",
        "\n",
        "def build_max_heap(arr, n):\n",
        "    for i in range(n//2, -1, -1):\n",
        "        max_heapify(arr, n, i)\n",
        "\n",
        "def max_heapify(arr, n, i):\n",
        "    largest = i\n",
        "    left = 2*i + 1\n",
        "    right = 2*i + 2\n",
        "\n",
        "    if left < n and arr[left] > arr[largest]:\n",
        "        largest = left\n",
        "\n",
        "    if right < n and arr[right] > arr[largest]:\n",
        "        largest = right\n",
        "\n",
        "    if largest != i:\n",
        "        arr[i], arr[largest] = arr[largest], arr[i]\n",
        "        max_heapify(arr, n, largest)"
      ]
    },
    {
      "cell_type": "markdown",
      "metadata": {
        "id": "CeMaQAmCAVYZ"
      },
      "source": [
        "###3.2 Heap Sort's Running Time Performance"
      ]
    },
    {
      "cell_type": "code",
      "execution_count": 10,
      "metadata": {
        "colab": {
          "base_uri": "https://localhost:8080/"
        },
        "id": "C11cQFWbAVYZ",
        "outputId": "1a825948-48cd-4c99-8b3f-2dde6da6c8a0"
      },
      "outputs": [
        {
          "output_type": "stream",
          "name": "stdout",
          "text": [
            "Running time for Heap Sort for array size of 1000 is 4.33 ms\n",
            "Running time for Heap Sort for array size of 25000 is 166.49 ms\n",
            "Running time for Heap Sort for array size of 50000 is 375.73 ms\n",
            "Running time for Heap Sort for array size of 75000 is 586.70 ms\n",
            "Running time for Heap Sort for array size of 100000 is 910.94 ms\n"
          ]
        }
      ],
      "source": [
        "HeapSort_times = []\n",
        "multiple_arrays_hs=copy.deepcopy(array_of_arrays) # to prevent the change of array_of_arrays variable values/ make the random numbers the same for all other sorting techni\n",
        "\n",
        "for arr in multiple_arrays_hs:\n",
        "    n=len(arr)\n",
        "\n",
        "    start_time = time.time()\n",
        "\n",
        "    HeapSort(arr)\n",
        "\n",
        "    end_time = time.time()\n",
        "    elapsed_time_ms = (end_time - start_time) * 1000\n",
        "    HeapSort_times.append(elapsed_time_ms)\n",
        "\n",
        "    print(f\"Running time for Heap Sort for array size of {n} is {elapsed_time_ms:.2f} ms\")"
      ]
    },
    {
      "cell_type": "markdown",
      "metadata": {
        "id": "rlT4rYpcAVYZ"
      },
      "source": [
        "###3.3 Heap Sort Graph - Time (milliseconds) vs Array Size"
      ]
    },
    {
      "cell_type": "code",
      "execution_count": 11,
      "metadata": {
        "colab": {
          "base_uri": "https://localhost:8080/",
          "height": 295
        },
        "id": "qpmmTzDHAVYZ",
        "outputId": "ca2c5171-e275-438f-b24c-8457e9827b97"
      },
      "outputs": [
        {
          "output_type": "display_data",
          "data": {
            "text/plain": [
              "<Figure size 432x288 with 1 Axes>"
            ],
            "image/png": "[encoded data removed]"
          },
          "metadata": {
            "needs_background": "light"
          }
        }
      ],
      "source": [
        "plt.plot(sizes, HeapSort_times, label=\"HeapSort\")\n",
        "plt.title(\"HeapSort graph\")\n",
        "\n",
        "plt.xlabel(\"Input size (N)\")\n",
        "plt.ylabel(\"Execution Time (microsec)\")\n",
        "\n",
        "plt.show()"
      ]
    },
    {
      "cell_type": "markdown",
      "metadata": {
        "id": "cnEM-8zw0TVK"
      },
      "source": [
        "<a name=\"part1_4\"></a>\n",
        "## 4 - Selection Sort"
      ]
    },
    {
      "cell_type": "markdown",
      "source": [
        "Selection sort is a simple sorting algorithm that works by repeatedly selecting the minimum element from the unsorted part of the array and placing it at the beginning of the sorted part of the array. The process is as follows:\n",
        "\n",
        "1. Find the minimum element in the unsorted part of the array.\n",
        "2. Swap it with the first element of the unsorted part of the array.\n",
        "3. Move the boundary of the sorted part of the array one element to the right.\n",
        "\n",
        "This process is repeated until the entire array is sorted. **The time complexity of selection sort is `O(n^2)`**, where **'n'** is the number of elements to be sorted. This is because it involves two nested loops, one for iterating through each element of the array, and another for finding the minimum element in the unsorted part of the array. \n",
        "\n",
        "**The space complexity of selection sort is `O(1)`**, as it sorts the input array in place without requiring any extra memory. \n",
        "\n",
        "Although selection sort is a simple algorithm, it is not very efficient for large arrays as its time complexity is quadratic."
      ],
      "metadata": {
        "id": "8zJSQhsy_ls6"
      }
    },
    {
      "cell_type": "markdown",
      "metadata": {
        "id": "QAYfLYO10TVL"
      },
      "source": [
        "###4.1 Selection Sort's implementation"
      ]
    },
    {
      "cell_type": "code",
      "execution_count": 12,
      "metadata": {
        "id": "qAerwzmb0TVL"
      },
      "outputs": [],
      "source": [
        "def SelectionSort(arr, n):  # function to perform selection sort on an array arr of size n\n",
        "    for i in range(n):  # loop over the array\n",
        "        min_index = i  # set the minimum value to be the current index i\n",
        "        for j in range(i + 1, n):  # loop over the remaining unsorted part of the array starting from i+1\n",
        "            if arr[j] < arr[min_index]:  # if the current element is less than the current minimum\n",
        "                min_index = j  # set the current minimum to be the current element\n",
        "        arr[i], arr[min_index] = arr[min_index], arr[i]  # swap the current minimum with the ith element, i.e. move the smallest element to its sorted position\n"
      ]
    },
    {
      "cell_type": "markdown",
      "metadata": {
        "id": "r8G9wmPN0TVL"
      },
      "source": [
        "###4.2 Selection Sort's Running Time Performance"
      ]
    },
    {
      "cell_type": "code",
      "execution_count": 13,
      "metadata": {
        "colab": {
          "base_uri": "https://localhost:8080/"
        },
        "id": "xuyStMhv0TVL",
        "outputId": "f2163edf-7e8a-4756-e9d2-939a17b8f44e"
      },
      "outputs": [
        {
          "output_type": "stream",
          "name": "stdout",
          "text": [
            "Running time for Selection Sort for array size of 1000 is 152.41 ms\n",
            "Running time for Selection Sort for array size of 25000 is 28292.77 ms\n",
            "Running time for Selection Sort for array size of 50000 is 90038.21 ms\n",
            "Running time for Selection Sort for array size of 75000 is 196133.61 ms\n",
            "Running time for Selection Sort for array size of 100000 is 355397.89 ms\n"
          ]
        }
      ],
      "source": [
        "SelectionSort_times = []\n",
        "multiple_arrays_ss=copy.deepcopy(array_of_arrays) # to prevent the change of array_of_arrays variable values/ make the random numbers the same for all other sorting techni\n",
        "\n",
        "for arr in multiple_arrays_ss:\n",
        "    n=len(arr)\n",
        "\n",
        "    start_time = time.time()\n",
        "\n",
        "    SelectionSort(arr,n)\n",
        "\n",
        "    end_time = time.time()\n",
        "    elapsed_time_ms = (end_time - start_time) * 1000\n",
        "    SelectionSort_times.append(elapsed_time_ms)\n",
        "\n",
        "    print(f\"Running time for Selection Sort for array size of {n} is {elapsed_time_ms:.2f} ms\")"
      ]
    },
    {
      "cell_type": "markdown",
      "metadata": {
        "id": "W_B2UGmL0TVM"
      },
      "source": [
        "###4.3 Selection Sort Graph - Time (milliseconds) vs Array Size"
      ]
    },
    {
      "cell_type": "code",
      "execution_count": 14,
      "metadata": {
        "id": "n-9ilrQv0TVM",
        "colab": {
          "base_uri": "https://localhost:8080/",
          "height": 295
        },
        "outputId": "e89a199e-1c11-4619-f189-cbb1045d76aa"
      },
      "outputs": [
        {
          "output_type": "display_data",
          "data": {
            "text/plain": [
              "<Figure size 432x288 with 1 Axes>"
            ],
            "image/png": "[encoded data removed]"
          },
          "metadata": {
            "needs_background": "light"
          }
        }
      ],
      "source": [
        "plt.plot(sizes, SelectionSort_times, label=\"SelectionSort\")\n",
        "plt.title(\"SelectionSort graph\")\n",
        "\n",
        "plt.xlabel(\"Input size (N)\")\n",
        "plt.ylabel(\"Execution Time (microsec)\")\n",
        "\n",
        "plt.show()"
      ]
    },
    {
      "cell_type": "markdown",
      "metadata": {
        "id": "Mayhxn9z1dp_"
      },
      "source": [
        "<a name=\"part1_5\"></a>\n",
        "## 5 - Insertion Sort"
      ]
    },
    {
      "cell_type": "markdown",
      "source": [
        "Insertion sort is a simple sorting algorithm that works by repeatedly inserting each unsorted element into its correct position within the sorted part of the array. The process is as follows:\n",
        "\n",
        "1. Take the first element from the unsorted part of the array.\n",
        "2. Compare it with the elements in the sorted part of the array and insert it into its correct position.\n",
        "3. Move the boundary of the sorted part of the array one element to the right.\n",
        "\n",
        "This process is repeated for each unsorted element until the entire array is sorted. \n",
        "\n",
        "**The time complexity of insertion sort is `O(n^2)`**, where **'n'** is the number of elements to be sorted. This is because it involves two nested loops, one for iterating through each element of the array, and another for finding the correct position to insert each unsorted element. \n",
        "\n",
        "**The space complexity of insertion sort is `O(1)`**, as it sorts the input array in place without requiring any extra memory. \n",
        "\n",
        "Although insertion sort is a simple algorithm, it is efficient for small arrays and is also used in more complex sorting algorithms, such as merge sort and quick sort, for small subarrays."
      ],
      "metadata": {
        "id": "Olvz9OvBATlk"
      }
    },
    {
      "cell_type": "markdown",
      "metadata": {
        "id": "11hhzbRu1dqH"
      },
      "source": [
        "###5.1 Insertion Sort's implementation"
      ]
    },
    {
      "cell_type": "code",
      "execution_count": 15,
      "metadata": {
        "id": "SyTHOccP1dqH"
      },
      "outputs": [],
      "source": [
        "def InsertionSort(arr):\n",
        "    # Iterate through the array from the second element (index 1) to the last element (index len(array)-1)\n",
        "    for i in range(1, len(arr)):\n",
        "        # Set the key to the current element\n",
        "        key = arr[i]\n",
        "        # Set j to the index of the current element\n",
        "        j = i\n",
        "        # Compare the key with the elements to its left\n",
        "        # If the element at index j-1 is greater than key and j > 0, move that element to the right by one position\n",
        "        # Continue moving left until the element at index j-1 is no longer greater than key\n",
        "        while j > 0 and arr[j - 1] > key:\n",
        "            arr[j - 1], arr[j] = arr[j], arr[j - 1] # swap the current element with the element at index j-1\n",
        "            j -= 1 # decrement j to continue moving left\n",
        "        # Insert the key into its correct position in the array\n",
        "        arr[j] = key\n"
      ]
    },
    {
      "cell_type": "markdown",
      "metadata": {
        "id": "Pp-jQnYf1dqH"
      },
      "source": [
        "###5.2 Insertion Sort's Running Time Performance"
      ]
    },
    {
      "cell_type": "code",
      "execution_count": 16,
      "metadata": {
        "colab": {
          "base_uri": "https://localhost:8080/"
        },
        "id": "uh6WrtMl1dqI",
        "outputId": "b76395a8-1bec-4008-c411-29da80462b78"
      },
      "outputs": [
        {
          "output_type": "stream",
          "name": "stdout",
          "text": [
            "Running time for Insertion Sort for array size of 1000 is 62.66 ms\n",
            "Running time for Insertion Sort for array size of 25000 is 42809.64 ms\n",
            "Running time for Insertion Sort for array size of 50000 is 176459.66 ms\n",
            "Running time for Insertion Sort for array size of 75000 is 395514.22 ms\n",
            "Running time for Insertion Sort for array size of 100000 is 700774.93 ms\n"
          ]
        }
      ],
      "source": [
        "InsertionSort_times = []\n",
        "multiple_arrays_is=copy.deepcopy(array_of_arrays) # to prevent the change of array_of_arrays variable values/ make the random numbers the same for all other sorting techni\n",
        "\n",
        "for arr in multiple_arrays_is:\n",
        "    n=len(arr)\n",
        "\n",
        "    start_time = time.time()\n",
        "\n",
        "    InsertionSort(arr)\n",
        "\n",
        "    end_time = time.time()\n",
        "    elapsed_time_ms = (end_time - start_time) * 1000\n",
        "    InsertionSort_times.append(elapsed_time_ms)\n",
        "\n",
        "    print(f\"Running time for Insertion Sort for array size of {n} is {elapsed_time_ms:.2f} ms\")"
      ]
    },
    {
      "cell_type": "markdown",
      "metadata": {
        "id": "Ft8urWPD1dqI"
      },
      "source": [
        "###5.3 Insertion Sort Graph - Time (milliseconds) vs Array Size"
      ]
    },
    {
      "cell_type": "code",
      "execution_count": 17,
      "metadata": {
        "colab": {
          "base_uri": "https://localhost:8080/",
          "height": 295
        },
        "id": "fwjrkukJ1dqI",
        "outputId": "22187ec0-ae28-4614-856f-0a71bf04ba52"
      },
      "outputs": [
        {
          "output_type": "display_data",
          "data": {
            "text/plain": [
              "<Figure size 432x288 with 1 Axes>"
            ],
            "image/png": "[encoded data removed]"
          },
          "metadata": {
            "needs_background": "light"
          }
        }
      ],
      "source": [
        "plt.plot(sizes, InsertionSort_times, label=\"InsertionSort\")\n",
        "plt.title(\"InsertionSort graph\")\n",
        "\n",
        "plt.xlabel(\"Input size (N)\")\n",
        "plt.ylabel(\"Execution Time (microsec)\")\n",
        "\n",
        "# plt.legend()#---used to label lines (must pass a label in the plot function)\n",
        "plt.show()"
      ]
    },
    {
      "cell_type": "markdown",
      "metadata": {
        "id": "6dpZloRDmUQk"
      },
      "source": [
        "<a name=\"part1_6\"></a>\n",
        "## **6 - Time comparison Report**\n"
      ]
    },
    {
      "cell_type": "markdown",
      "source": [
        "### 6.1 - Graph"
      ],
      "metadata": {
        "id": "CkAiy8mlAqq3"
      }
    },
    {
      "cell_type": "code",
      "source": [
        "plt.title(\"Time Comparison Graph\")\n",
        "\n",
        "plt.plot(sizes, QuickSort_times,label=\"QuickSort\")\n",
        "plt.plot(sizes, MergeSort_times, label=\"MergeSort\")\n",
        "plt.plot(sizes, HeapSort_times, label=\"HeapSort\")\n",
        "plt.plot(sizes, SelectionSort_times, label=\"SelectionSort\")\n",
        "plt.plot(sizes, InsertionSort_times, label=\"InsertionSort\")\n",
        "\n",
        "plt.xlabel(\"Input size (N)\")\n",
        "plt.ylabel(\"Execution Time (microsec)\")\n",
        "\n",
        "plt.legend()\n",
        "plt.show()"
      ],
      "metadata": {
        "colab": {
          "base_uri": "https://localhost:8080/",
          "height": 295
        },
        "id": "_wS55gt9m5TS",
        "outputId": "097d3b7b-b94b-455e-b23d-f29782a60654"
      },
      "execution_count": 18,
      "outputs": [
        {
          "output_type": "display_data",
          "data": {
            "text/plain": [
              "<Figure size 432x288 with 1 Axes>"
            ],
            "image/png": "[encoded data removed]"
          },
          "metadata": {
            "needs_background": "light"
          }
        }
      ]
    },
    {
      "cell_type": "markdown",
      "source": [
        "#### Here we notice that the QuickSort, HeapSort and the MergeSort are simmilar to each other.\n",
        "\n",
        "#### Thus, another graph was plotted to show the difference between them"
      ],
      "metadata": {
        "id": "FXoPegB91TeE"
      }
    },
    {
      "cell_type": "code",
      "source": [
        "plt.title(\"Quick vs Merge vs Heap\")\n",
        "\n",
        "plt.plot(sizes, QuickSort_times,label=\"QuickSort\")\n",
        "plt.plot(sizes, MergeSort_times, label=\"MergeSort\")\n",
        "plt.plot(sizes, HeapSort_times, label=\"HeapSort\")\n",
        "\n",
        "plt.xlabel(\"Input size (N)\")\n",
        "plt.ylabel(\"Execution Time (microsec)\")\n",
        "\n",
        "plt.legend()\n",
        "plt.show()\n"
      ],
      "metadata": {
        "colab": {
          "base_uri": "https://localhost:8080/",
          "height": 295
        },
        "id": "A99XQfTs1I56",
        "outputId": "d4716156-834a-4451-a36a-26cfef566285"
      },
      "execution_count": 20,
      "outputs": [
        {
          "output_type": "display_data",
          "data": {
            "text/plain": [
              "<Figure size 432x288 with 1 Axes>"
            ],
            "image/png": "[encoded data removed]"
          },
          "metadata": {
            "needs_background": "light"
          }
        }
      ]
    },
    {
      "cell_type": "markdown",
      "source": [
        "### 6.2 - Conclusion"
      ],
      "metadata": {
        "id": "6O0E85opDNRB"
      }
    },
    {
      "cell_type": "markdown",
      "source": [
        "#### From the graphs, we can observe that for smaller input sizes (up to 1000), all the algorithms perform comparably fast, with Insertion Sort being slightly faster than the others. However, for larger input sizes, Quick Sort, Merge Sort, and Heap Sort algorithms outperform the Selection Sort and Insertion Sort algorithms by a wide margin.\n",
        "\n",
        "### In general, Quick Sort has the fastest execution time, followed by Merge Sort and Heap Sort. On the other hand, Selection Sort and Insertion Sort have the slowest execution time and are not suitable for large input sizes. Therefore, for large input sizes, it is better to use Quick Sort, Merge Sort, or Heap Sort."
      ],
      "metadata": {
        "id": "QFRZs80SCn4E"
      }
    }
  ],
  "metadata": {
    "colab": {
      "collapsed_sections": [
        "vTgDcf8Y2tqp",
        "1gqpHQzAy0wi",
        "h-0hjvCtqPvu",
        "h1_RSL4arBdz",
        "qwepwDKNs6ZJ",
        "rxyYWMpb8x3d",
        "J1VEFBEz5ysU",
        "-sPsjZmp7k2m",
        "yOeFURFs79s7",
        "Xic3l2bb9B3y",
        "0mFfO8cw69OA",
        "lKHf_aarAVYY",
        "CeMaQAmCAVYZ",
        "rlT4rYpcAVYZ",
        "cnEM-8zw0TVK",
        "QAYfLYO10TVL",
        "r8G9wmPN0TVL",
        "W_B2UGmL0TVM",
        "Mayhxn9z1dp_",
        "6dpZloRDmUQk"
      ],
      "provenance": [],
      "include_colab_link": true
    },
    "kernelspec": {
      "display_name": "Python 3",
      "language": "python",
      "name": "python3"
    },
    "language_info": {
      "name": "python",
      "version": "3.10.7"
    },
    "gpuClass": "standard"
  },
  "nbformat": 4,
  "nbformat_minor": 0
}